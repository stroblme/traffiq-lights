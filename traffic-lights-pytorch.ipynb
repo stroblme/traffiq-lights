{
 "cells": [
  {
   "cell_type": "code",
   "execution_count": 6,
   "metadata": {},
   "outputs": [],
   "source": [
    "import torch as t\n",
    "import numpy as np #interp, repeat\n",
    "from livelossplot import PlotLosses"
   ]
  },
  {
   "cell_type": "code",
   "execution_count": 7,
   "metadata": {},
   "outputs": [
    {
     "name": "stdout",
     "output_type": "stream",
     "text": [
      "train-dataset size: torch.Size([280, 3])\n",
      "valid-dataset size: torch.Size([80, 3])\n",
      "test-dataset size: torch.Size([40, 3])\n"
     ]
    }
   ],
   "source": [
    "x_base = t.FloatTensor([[0,0,1], [0,1,0], [1,1,0], [1,0,0]])\n",
    "y_base = t.FloatTensor([1, 1, 0, 0])\n",
    "\n",
    "modes = {'train':0.70, 'valid':0.20, 'test':0.10}\n",
    "scatter = 0.3\n",
    "features = 3\n",
    "augmentation_size = 100\n",
    "datasets = {mode:None for mode in modes.keys()}\n",
    "\n",
    "for mode, proportion in modes.items():\n",
    "    actual_augmentation = int(augmentation_size*proportion)\n",
    "\n",
    "    x_enhanced = t.zeros((actual_augmentation*x_base.size(0), features))\n",
    "    y_enhanced = np.repeat(y_base, augmentation_size*proportion)\n",
    "\n",
    "    for b, c in enumerate(x_base):\n",
    "        for a in range(actual_augmentation):\n",
    "            random_light = scatter/2-scatter*t.rand(features)\n",
    "            scattered_feature = c + random_light\n",
    "            x_enhanced[b*actual_augmentation + a] = t.FloatTensor(np.interp(scattered_feature, (scattered_feature.min(), scattered_feature.max()), (0, +1) ))\n",
    "\n",
    "    datasets[mode] = t.utils.data.TensorDataset(x_enhanced, y_enhanced)\n",
    "\n",
    "    print(f\"{mode}-dataset size: {x_enhanced.shape}\")\n"
   ]
  },
  {
   "cell_type": "code",
   "execution_count": 8,
   "metadata": {},
   "outputs": [],
   "source": [
    "# class MLP(t.nn.Module):\n",
    "#     def __init__(self, n_in: int, n_hid: int, n_out: int, do_prob: float=0.):\n",
    "#         \"\"\"\n",
    "#         Args:\n",
    "#             n_in: input dimension\n",
    "#             n_hid: dimension of hidden layers\n",
    "#             n_out: output dimension\n",
    "#             do_prob: rate of dropout\n",
    "#         \"\"\"\n",
    "#         super(MLP, self).__init__()\n",
    "\n",
    "#         self.fc_hid = t.nn.Linear(n_in, n_hid)\n",
    "#         self.fc_out = t.nn.Linear(n_hid, n_out)\n",
    "#         self.bn_out = t.nn.BatchNorm1d(n_out)\n",
    "#         self.bn_hid = t.nn.BatchNorm1d(n_hid)\n",
    "#         self.dropout_prob = do_prob\n",
    "\n",
    "#     def forward(self, inputs: t.Tensor) -> t.Tensor:\n",
    "#         x = t.nn.functional.elu(self.fc_hid(inputs))\n",
    "#         x = self.bn_hid(x)\n",
    "#         # x = t.nn.functional.dropout(x, self.dropout_prob, training=self.training)\n",
    "#         x = t.nn.functional.elu(self.fc_out(x))\n",
    "#         return self.bn_out(x)\n",
    "\n",
    "class MLP(t.nn.Module):\n",
    "    def __init__(self, input_dim, output_dim):\n",
    "        super(MLP, self).__init__()\n",
    "        self.input_layer = t.nn.Linear(input_dim, 5)\n",
    "        self.hidden_layer_2 = t.nn.Linear(5, 3)\n",
    "        self.output_layer = t.nn.Linear(4, output_dim)\n",
    "        \n",
    "    def forward(self, x):\n",
    "        x = t.nn.functional.relu(self.input_layer(x))\n",
    "        x = t.nn.functional.relu(self.hidden_layer_1(x))\n",
    "        x = t.nn.functional.relu(self.hidden_layer_2(x))\n",
    "\n",
    "        x = t.sigmoid(self.output_layer(x))\n",
    "        return x"
   ]
  },
  {
   "cell_type": "code",
   "execution_count": 9,
   "metadata": {},
   "outputs": [],
   "source": [
    "learning_rate = 0.2\n",
    "epochs = 100\n",
    "batch_size = 10\n",
    "\n",
    "\n",
    "\n",
    "model = MLP(features, 1)\n",
    "\n",
    "opt = t.optim.Adam(model.parameters(), lr=learning_rate)\n",
    "loss_fn = t.nn.BCELoss() \n",
    "\n",
    "dataloaders = {mode:None for mode in modes}\n",
    "dataloaders[\"train\"] = t.utils.data.DataLoader(datasets[\"train\"], batch_size=batch_size, shuffle=True)\n",
    "dataloaders[\"valid\"] = t.utils.data.DataLoader(datasets[\"valid\"], batch_size=batch_size, shuffle=True)\n",
    "dataloaders[\"test\"] = t.utils.data.DataLoader(datasets[\"test\"], batch_size=batch_size, shuffle=True)\n",
    "\n",
    "model.eval()\n",
    "\n",
    "liveloss = PlotLosses()\n"
   ]
  },
  {
   "cell_type": "code",
   "execution_count": 10,
   "metadata": {},
   "outputs": [
    {
     "data": {
      "image/png": "[encoded data removed]",
      "text/plain": [
       "<Figure size 864x576 with 2 Axes>"
      ]
     },
     "metadata": {
      "needs_background": "light"
     },
     "output_type": "display_data"
    },
    {
     "name": "stdout",
     "output_type": "stream",
     "text": [
      "accuracy\n",
      "\taccuracy         \t (min:    6.300, max:    6.300, cur:    6.300)\n",
      "log loss\n",
      "\tlog loss         \t (min:    0.622, max:    0.622, cur:    0.622)\n"
     ]
    },
    {
     "name": "stderr",
     "output_type": "stream",
     "text": [
      "Traceback (most recent call last):\n",
      "  File \"_pydevd_bundle/pydevd_cython.pyx\", line 1081, in _pydevd_bundle.pydevd_cython.PyDBFrame.trace_dispatch\n",
      "  File \"_pydevd_bundle/pydevd_cython.pyx\", line 297, in _pydevd_bundle.pydevd_cython.PyDBFrame.do_wait_suspend\n",
      "  File \"/home/lc3267/Documents/CodeWorkspace/optuna-pytorch-testing/venv/lib64/python3.8/site-packages/debugpy/_vendored/pydevd/pydevd.py\", line 2023, in do_wait_suspend\n",
      "    keep_suspended = self._do_wait_suspend(thread, frame, event, arg, suspend_type, from_this_thread, frames_tracker)\n",
      "  File \"/home/lc3267/Documents/CodeWorkspace/optuna-pytorch-testing/venv/lib64/python3.8/site-packages/debugpy/_vendored/pydevd/pydevd.py\", line 2059, in _do_wait_suspend\n",
      "    time.sleep(0.01)\n",
      "KeyboardInterrupt\n"
     ]
    },
    {
     "name": "stdout",
     "output_type": "stream",
     "text": [
      "Unexpected exception formatting exception. Falling back to standard exception\n"
     ]
    },
    {
     "name": "stderr",
     "output_type": "stream",
     "text": [
      "Traceback (most recent call last):\n",
      "  File \"/home/lc3267/Documents/CodeWorkspace/optuna-pytorch-testing/venv/lib64/python3.8/site-packages/IPython/core/interactiveshell.py\", line 3398, in run_code\n",
      "    exec(code_obj, self.user_global_ns, self.user_ns)\n",
      "  File \"/tmp/ipykernel_17682/3859981432.py\", line 16, in <cell line: 2>\n",
      "    loss = loss_fn(y_pred.view(-1), y_batch)\n",
      "  File \"/tmp/ipykernel_17682/3859981432.py\", line 16, in <cell line: 2>\n",
      "    loss = loss_fn(y_pred.view(-1), y_batch)\n",
      "  File \"_pydevd_bundle/pydevd_cython.pyx\", line 1366, in _pydevd_bundle.pydevd_cython.SafeCallWrapper.__call__\n",
      "  File \"_pydevd_bundle/pydevd_cython.pyx\", line 662, in _pydevd_bundle.pydevd_cython.PyDBFrame.trace_dispatch\n",
      "  File \"_pydevd_bundle/pydevd_cython.pyx\", line 1090, in _pydevd_bundle.pydevd_cython.PyDBFrame.trace_dispatch\n",
      "  File \"_pydevd_bundle/pydevd_cython.pyx\", line 1081, in _pydevd_bundle.pydevd_cython.PyDBFrame.trace_dispatch\n",
      "  File \"_pydevd_bundle/pydevd_cython.pyx\", line 297, in _pydevd_bundle.pydevd_cython.PyDBFrame.do_wait_suspend\n",
      "  File \"/home/lc3267/Documents/CodeWorkspace/optuna-pytorch-testing/venv/lib64/python3.8/site-packages/debugpy/_vendored/pydevd/pydevd.py\", line 2023, in do_wait_suspend\n",
      "    keep_suspended = self._do_wait_suspend(thread, frame, event, arg, suspend_type, from_this_thread, frames_tracker)\n",
      "  File \"/home/lc3267/Documents/CodeWorkspace/optuna-pytorch-testing/venv/lib64/python3.8/site-packages/debugpy/_vendored/pydevd/pydevd.py\", line 2059, in _do_wait_suspend\n",
      "    time.sleep(0.01)\n",
      "KeyboardInterrupt\n",
      "\n",
      "During handling of the above exception, another exception occurred:\n",
      "\n",
      "Traceback (most recent call last):\n",
      "  File \"/home/lc3267/Documents/CodeWorkspace/optuna-pytorch-testing/venv/lib64/python3.8/site-packages/IPython/core/interactiveshell.py\", line 1993, in showtraceback\n",
      "    stb = self.InteractiveTB.structured_traceback(\n",
      "  File \"/home/lc3267/Documents/CodeWorkspace/optuna-pytorch-testing/venv/lib64/python3.8/site-packages/IPython/core/ultratb.py\", line 1118, in structured_traceback\n",
      "    return FormattedTB.structured_traceback(\n",
      "  File \"/home/lc3267/Documents/CodeWorkspace/optuna-pytorch-testing/venv/lib64/python3.8/site-packages/IPython/core/ultratb.py\", line 1012, in structured_traceback\n",
      "    return VerboseTB.structured_traceback(\n",
      "  File \"/home/lc3267/Documents/CodeWorkspace/optuna-pytorch-testing/venv/lib64/python3.8/site-packages/IPython/core/ultratb.py\", line 865, in structured_traceback\n",
      "    formatted_exception = self.format_exception_as_a_whole(etype, evalue, etb, number_of_lines_of_context,\n",
      "  File \"/home/lc3267/Documents/CodeWorkspace/optuna-pytorch-testing/venv/lib64/python3.8/site-packages/IPython/core/ultratb.py\", line 818, in format_exception_as_a_whole\n",
      "    frames.append(self.format_record(r))\n",
      "  File \"/home/lc3267/Documents/CodeWorkspace/optuna-pytorch-testing/venv/lib64/python3.8/site-packages/IPython/core/ultratb.py\", line 736, in format_record\n",
      "    result += ''.join(_format_traceback_lines(frame_info.lines, Colors, self.has_colors, lvals))\n",
      "  File \"/home/lc3267/Documents/CodeWorkspace/optuna-pytorch-testing/venv/lib64/python3.8/site-packages/stack_data/utils.py\", line 145, in cached_property_wrapper\n",
      "    value = obj.__dict__[self.func.__name__] = self.func(obj)\n",
      "  File \"/home/lc3267/Documents/CodeWorkspace/optuna-pytorch-testing/venv/lib64/python3.8/site-packages/stack_data/core.py\", line 698, in lines\n",
      "    pieces = self.included_pieces\n",
      "  File \"/home/lc3267/Documents/CodeWorkspace/optuna-pytorch-testing/venv/lib64/python3.8/site-packages/stack_data/utils.py\", line 145, in cached_property_wrapper\n",
      "    value = obj.__dict__[self.func.__name__] = self.func(obj)\n",
      "  File \"/home/lc3267/Documents/CodeWorkspace/optuna-pytorch-testing/venv/lib64/python3.8/site-packages/stack_data/core.py\", line 649, in included_pieces\n",
      "    pos = scope_pieces.index(self.executing_piece)\n",
      "  File \"/home/lc3267/Documents/CodeWorkspace/optuna-pytorch-testing/venv/lib64/python3.8/site-packages/stack_data/utils.py\", line 145, in cached_property_wrapper\n",
      "    value = obj.__dict__[self.func.__name__] = self.func(obj)\n",
      "  File \"/home/lc3267/Documents/CodeWorkspace/optuna-pytorch-testing/venv/lib64/python3.8/site-packages/stack_data/core.py\", line 628, in executing_piece\n",
      "    return only(\n",
      "  File \"/home/lc3267/Documents/CodeWorkspace/optuna-pytorch-testing/venv/lib64/python3.8/site-packages/executing/executing.py\", line 164, in only\n",
      "    raise NotOneValueFound('Expected one value, found 0')\n",
      "executing.executing.NotOneValueFound: Expected one value, found 0\n"
     ]
    }
   ],
   "source": [
    "\n",
    "for e in range(epochs):\n",
    "    logs = {}\n",
    "    for mode in ['train', 'valid']:\n",
    "        if mode == 'train':\n",
    "            model.train()\n",
    "        else:\n",
    "            model.eval()\n",
    "\n",
    "        running_loss = 0.0\n",
    "        running_corrects = 0\n",
    "\n",
    "        for x_batch, y_batch in dataloaders[mode]:\n",
    "            y_pred = model(x_batch)\n",
    "\n",
    "            loss = loss_fn(y_pred.view(-1), y_batch)\n",
    "\n",
    "            if mode == 'train':\n",
    "                opt.zero_grad()\n",
    "                loss.backward()\n",
    "                opt.step()\n",
    "\n",
    "            running_loss += loss.detach() * x_batch.size(0)\n",
    "            running_corrects += t.sum(y_pred >= 0.9*y_batch.data)\n",
    "        epoch_loss = running_loss / len(dataloaders[mode].dataset)\n",
    "        epoch_acc = running_corrects.float() / len(dataloaders[mode].dataset)\n",
    "        print(epoch_loss)\n",
    "        prefix = ''\n",
    "        if mode == 'validation':\n",
    "            prefix = 'val_'\n",
    "\n",
    "        logs[prefix + 'log loss'] = epoch_loss.item()\n",
    "        logs[prefix + 'accuracy'] = epoch_acc.item()\n",
    "    liveloss.update(logs)\n",
    "    liveloss.send()\n",
    "    "
   ]
  }
 ],
 "metadata": {
  "interpreter": {
   "hash": "3602f6b44b67812a27be031e7025d9810189bb4d78fb8dd50af7007e7e4144eb"
  },
  "kernelspec": {
   "display_name": "Python 3.8.13 ('venv': venv)",
   "language": "python",
   "name": "python3"
  },
  "language_info": {
   "codemirror_mode": {
    "name": "ipython",
    "version": 3
   },
   "file_extension": ".py",
   "mimetype": "text/x-python",
   "name": "python",
   "nbconvert_exporter": "python",
   "pygments_lexer": "ipython3",
   "version": "3.8.13"
  },
  "orig_nbformat": 4
 },
 "nbformat": 4,
 "nbformat_minor": 2
}
